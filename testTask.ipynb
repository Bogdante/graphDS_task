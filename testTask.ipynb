{
 "cells": [
  {
   "cell_type": "code",
   "execution_count": 1,
   "id": "0cd2e875",
   "metadata": {},
   "outputs": [],
   "source": [
    "import numpy as np\n",
    "import pandas as pd\n",
    "import copy\n",
    "from matplotlib import pyplot as plt"
   ]
  },
  {
   "cell_type": "code",
   "execution_count": 2,
   "id": "31488ca1",
   "metadata": {
    "scrolled": true
   },
   "outputs": [],
   "source": [
    "df = pd.read_csv(\"csv\\data_test.csv\", sep=';')"
   ]
  },
  {
   "cell_type": "code",
   "execution_count": 3,
   "id": "3fc5d47a",
   "metadata": {},
   "outputs": [
    {
     "data": {
      "text/html": [
       "<div>\n",
       "<style scoped>\n",
       "    .dataframe tbody tr th:only-of-type {\n",
       "        vertical-align: middle;\n",
       "    }\n",
       "\n",
       "    .dataframe tbody tr th {\n",
       "        vertical-align: top;\n",
       "    }\n",
       "\n",
       "    .dataframe thead th {\n",
       "        text-align: right;\n",
       "    }\n",
       "</style>\n",
       "<table border=\"1\" class=\"dataframe\">\n",
       "  <thead>\n",
       "    <tr style=\"text-align: right;\">\n",
       "      <th></th>\n",
       "      <th>id события</th>\n",
       "      <th>ФИО участника события 1</th>\n",
       "      <th>ФИО участника события 2</th>\n",
       "    </tr>\n",
       "  </thead>\n",
       "  <tbody>\n",
       "    <tr>\n",
       "      <th>0</th>\n",
       "      <td>189</td>\n",
       "      <td>Галчевская Карина Владимировна</td>\n",
       "      <td>Белоновская Анастасия Семеновна</td>\n",
       "    </tr>\n",
       "    <tr>\n",
       "      <th>1</th>\n",
       "      <td>206</td>\n",
       "      <td>Офицеров Олег Романович</td>\n",
       "      <td>Сапожник Борис Валерьевич</td>\n",
       "    </tr>\n",
       "    <tr>\n",
       "      <th>2</th>\n",
       "      <td>445</td>\n",
       "      <td>Жандарова Лариса Германовна</td>\n",
       "      <td>Чемодуров Дамир Русланович</td>\n",
       "    </tr>\n",
       "    <tr>\n",
       "      <th>3</th>\n",
       "      <td>503</td>\n",
       "      <td>Масимова Яна Дамировна</td>\n",
       "      <td>Мингажетдинов Рамиль Семенович</td>\n",
       "    </tr>\n",
       "    <tr>\n",
       "      <th>4</th>\n",
       "      <td>571</td>\n",
       "      <td>Мухтарова Алена Яковлевна</td>\n",
       "      <td>Щербатенко Ольга Робертовна</td>\n",
       "    </tr>\n",
       "    <tr>\n",
       "      <th>5</th>\n",
       "      <td>595</td>\n",
       "      <td>Русских Кира Константиновна</td>\n",
       "      <td>Федутинов Артем Артурович</td>\n",
       "    </tr>\n",
       "    <tr>\n",
       "      <th>6</th>\n",
       "      <td>637</td>\n",
       "      <td>Федонкина Кристина Маратовна</td>\n",
       "      <td>Маргиев Григорий Иванович</td>\n",
       "    </tr>\n",
       "    <tr>\n",
       "      <th>7</th>\n",
       "      <td>741</td>\n",
       "      <td>Чернолусская Екатерина Марселевна</td>\n",
       "      <td>Бухановская Лидия Радиковна</td>\n",
       "    </tr>\n",
       "    <tr>\n",
       "      <th>8</th>\n",
       "      <td>996</td>\n",
       "      <td>Оранский Владимир Артурович</td>\n",
       "      <td>Скотников Виктор Ильич</td>\n",
       "    </tr>\n",
       "    <tr>\n",
       "      <th>9</th>\n",
       "      <td>1210</td>\n",
       "      <td>Ардатов Андрей Анатольевич</td>\n",
       "      <td>Ханыгин Дмитрий Юрьевич</td>\n",
       "    </tr>\n",
       "  </tbody>\n",
       "</table>\n",
       "</div>"
      ],
      "text/plain": [
       "   id события            ФИО участника события 1  \\\n",
       "0         189     Галчевская Карина Владимировна   \n",
       "1         206            Офицеров Олег Романович   \n",
       "2         445        Жандарова Лариса Германовна   \n",
       "3         503             Масимова Яна Дамировна   \n",
       "4         571          Мухтарова Алена Яковлевна   \n",
       "5         595        Русских Кира Константиновна   \n",
       "6         637       Федонкина Кристина Маратовна   \n",
       "7         741  Чернолусская Екатерина Марселевна   \n",
       "8         996        Оранский Владимир Артурович   \n",
       "9        1210         Ардатов Андрей Анатольевич   \n",
       "\n",
       "           ФИО участника события 2  \n",
       "0  Белоновская Анастасия Семеновна  \n",
       "1        Сапожник Борис Валерьевич  \n",
       "2       Чемодуров Дамир Русланович  \n",
       "3   Мингажетдинов Рамиль Семенович  \n",
       "4      Щербатенко Ольга Робертовна  \n",
       "5        Федутинов Артем Артурович  \n",
       "6        Маргиев Григорий Иванович  \n",
       "7      Бухановская Лидия Радиковна  \n",
       "8           Скотников Виктор Ильич  \n",
       "9          Ханыгин Дмитрий Юрьевич  "
      ]
     },
     "execution_count": 3,
     "metadata": {},
     "output_type": "execute_result"
    }
   ],
   "source": [
    "df.head(10)"
   ]
  },
  {
   "cell_type": "markdown",
   "id": "c7908416",
   "metadata": {},
   "source": [
    "<i> Для удобства переименуем колонки </i>"
   ]
  },
  {
   "cell_type": "code",
   "execution_count": 4,
   "id": "dd8c0309",
   "metadata": {},
   "outputs": [],
   "source": [
    "df = df.rename(columns={'id события':'id', 'ФИО участника события 1':'name_1', 'ФИО участника события 2':'name_2'})"
   ]
  },
  {
   "cell_type": "code",
   "execution_count": 5,
   "id": "f97aa76a",
   "metadata": {
    "scrolled": true
   },
   "outputs": [
    {
     "data": {
      "text/html": [
       "<div>\n",
       "<style scoped>\n",
       "    .dataframe tbody tr th:only-of-type {\n",
       "        vertical-align: middle;\n",
       "    }\n",
       "\n",
       "    .dataframe tbody tr th {\n",
       "        vertical-align: top;\n",
       "    }\n",
       "\n",
       "    .dataframe thead th {\n",
       "        text-align: right;\n",
       "    }\n",
       "</style>\n",
       "<table border=\"1\" class=\"dataframe\">\n",
       "  <thead>\n",
       "    <tr style=\"text-align: right;\">\n",
       "      <th></th>\n",
       "      <th>id</th>\n",
       "      <th>name_1</th>\n",
       "      <th>name_2</th>\n",
       "    </tr>\n",
       "  </thead>\n",
       "  <tbody>\n",
       "    <tr>\n",
       "      <th>0</th>\n",
       "      <td>189</td>\n",
       "      <td>Галчевская Карина Владимировна</td>\n",
       "      <td>Белоновская Анастасия Семеновна</td>\n",
       "    </tr>\n",
       "    <tr>\n",
       "      <th>1</th>\n",
       "      <td>206</td>\n",
       "      <td>Офицеров Олег Романович</td>\n",
       "      <td>Сапожник Борис Валерьевич</td>\n",
       "    </tr>\n",
       "    <tr>\n",
       "      <th>2</th>\n",
       "      <td>445</td>\n",
       "      <td>Жандарова Лариса Германовна</td>\n",
       "      <td>Чемодуров Дамир Русланович</td>\n",
       "    </tr>\n",
       "    <tr>\n",
       "      <th>3</th>\n",
       "      <td>503</td>\n",
       "      <td>Масимова Яна Дамировна</td>\n",
       "      <td>Мингажетдинов Рамиль Семенович</td>\n",
       "    </tr>\n",
       "    <tr>\n",
       "      <th>4</th>\n",
       "      <td>571</td>\n",
       "      <td>Мухтарова Алена Яковлевна</td>\n",
       "      <td>Щербатенко Ольга Робертовна</td>\n",
       "    </tr>\n",
       "    <tr>\n",
       "      <th>5</th>\n",
       "      <td>595</td>\n",
       "      <td>Русских Кира Константиновна</td>\n",
       "      <td>Федутинов Артем Артурович</td>\n",
       "    </tr>\n",
       "    <tr>\n",
       "      <th>6</th>\n",
       "      <td>637</td>\n",
       "      <td>Федонкина Кристина Маратовна</td>\n",
       "      <td>Маргиев Григорий Иванович</td>\n",
       "    </tr>\n",
       "    <tr>\n",
       "      <th>7</th>\n",
       "      <td>741</td>\n",
       "      <td>Чернолусская Екатерина Марселевна</td>\n",
       "      <td>Бухановская Лидия Радиковна</td>\n",
       "    </tr>\n",
       "    <tr>\n",
       "      <th>8</th>\n",
       "      <td>996</td>\n",
       "      <td>Оранский Владимир Артурович</td>\n",
       "      <td>Скотников Виктор Ильич</td>\n",
       "    </tr>\n",
       "    <tr>\n",
       "      <th>9</th>\n",
       "      <td>1210</td>\n",
       "      <td>Ардатов Андрей Анатольевич</td>\n",
       "      <td>Ханыгин Дмитрий Юрьевич</td>\n",
       "    </tr>\n",
       "  </tbody>\n",
       "</table>\n",
       "</div>"
      ],
      "text/plain": [
       "     id                             name_1                           name_2\n",
       "0   189     Галчевская Карина Владимировна  Белоновская Анастасия Семеновна\n",
       "1   206            Офицеров Олег Романович        Сапожник Борис Валерьевич\n",
       "2   445        Жандарова Лариса Германовна       Чемодуров Дамир Русланович\n",
       "3   503             Масимова Яна Дамировна   Мингажетдинов Рамиль Семенович\n",
       "4   571          Мухтарова Алена Яковлевна      Щербатенко Ольга Робертовна\n",
       "5   595        Русских Кира Константиновна        Федутинов Артем Артурович\n",
       "6   637       Федонкина Кристина Маратовна        Маргиев Григорий Иванович\n",
       "7   741  Чернолусская Екатерина Марселевна      Бухановская Лидия Радиковна\n",
       "8   996        Оранский Владимир Артурович           Скотников Виктор Ильич\n",
       "9  1210         Ардатов Андрей Анатольевич          Ханыгин Дмитрий Юрьевич"
      ]
     },
     "execution_count": 5,
     "metadata": {},
     "output_type": "execute_result"
    }
   ],
   "source": [
    "df.head(10)"
   ]
  },
  {
   "cell_type": "markdown",
   "id": "67ac5100",
   "metadata": {},
   "source": [
    "#### Поиск дубликатов"
   ]
  },
  {
   "cell_type": "code",
   "execution_count": 6,
   "id": "c6f91434",
   "metadata": {
    "scrolled": true
   },
   "outputs": [
    {
     "data": {
      "text/plain": [
       "False"
      ]
     },
     "execution_count": 6,
     "metadata": {},
     "output_type": "execute_result"
    }
   ],
   "source": [
    "df.id.nunique() == df.shape[0]"
   ]
  },
  {
   "cell_type": "code",
   "execution_count": 7,
   "id": "2fec8d3e",
   "metadata": {},
   "outputs": [],
   "source": [
    "duplicated_id = df.loc[df.duplicated(['id'])]"
   ]
  },
  {
   "cell_type": "code",
   "execution_count": 8,
   "id": "4f4ae943",
   "metadata": {},
   "outputs": [],
   "source": [
    "dupl_df_id = df.loc[df.id.isin(duplicated_id.id)]"
   ]
  },
  {
   "cell_type": "code",
   "execution_count": 9,
   "id": "938799a3",
   "metadata": {},
   "outputs": [
    {
     "data": {
      "text/plain": [
       "True"
      ]
     },
     "execution_count": 9,
     "metadata": {},
     "output_type": "execute_result"
    }
   ],
   "source": [
    "dupl_df_id.name_1.nunique() == dupl_df_id.name_2.nunique() == dupl_df_id.shape[0]"
   ]
  },
  {
   "cell_type": "code",
   "execution_count": 10,
   "id": "3e293c03",
   "metadata": {},
   "outputs": [
    {
     "data": {
      "text/plain": [
       "0"
      ]
     },
     "execution_count": 10,
     "metadata": {},
     "output_type": "execute_result"
    }
   ],
   "source": [
    "len(set(dupl_df_id.name_1.unique()).intersection(set(dupl_df_id.name_2.unique())))"
   ]
  },
  {
   "cell_type": "code",
   "execution_count": 11,
   "id": "d19a8c34",
   "metadata": {
    "scrolled": true
   },
   "outputs": [
    {
     "data": {
      "text/html": [
       "<div>\n",
       "<style scoped>\n",
       "    .dataframe tbody tr th:only-of-type {\n",
       "        vertical-align: middle;\n",
       "    }\n",
       "\n",
       "    .dataframe tbody tr th {\n",
       "        vertical-align: top;\n",
       "    }\n",
       "\n",
       "    .dataframe thead th {\n",
       "        text-align: right;\n",
       "    }\n",
       "</style>\n",
       "<table border=\"1\" class=\"dataframe\">\n",
       "  <thead>\n",
       "    <tr style=\"text-align: right;\">\n",
       "      <th></th>\n",
       "      <th>id</th>\n",
       "      <th>name_1</th>\n",
       "      <th>name_2</th>\n",
       "    </tr>\n",
       "  </thead>\n",
       "  <tbody>\n",
       "    <tr>\n",
       "      <th>366</th>\n",
       "      <td>70049</td>\n",
       "      <td>Яшина Полина Евгеньевна</td>\n",
       "      <td>Герасимовская Ксения Дамировна</td>\n",
       "    </tr>\n",
       "    <tr>\n",
       "      <th>367</th>\n",
       "      <td>70049</td>\n",
       "      <td>Федова Анжелика Вадимовна</td>\n",
       "      <td>Вальдовский Альберт Ефимович</td>\n",
       "    </tr>\n",
       "    <tr>\n",
       "      <th>486</th>\n",
       "      <td>92995</td>\n",
       "      <td>Журик Альберт Евгеньевич</td>\n",
       "      <td>Бадьянова Римма Максимовна</td>\n",
       "    </tr>\n",
       "    <tr>\n",
       "      <th>487</th>\n",
       "      <td>92995</td>\n",
       "      <td>Кучеренко Ирина Ильинична</td>\n",
       "      <td>Болтик Григорий Максимович</td>\n",
       "    </tr>\n",
       "    <tr>\n",
       "      <th>597</th>\n",
       "      <td>117280</td>\n",
       "      <td>Волынский Кирилл Федорович</td>\n",
       "      <td>Гайсумов Виктор Тимурович</td>\n",
       "    </tr>\n",
       "    <tr>\n",
       "      <th>598</th>\n",
       "      <td>117280</td>\n",
       "      <td>Уточкин Евгений Анатольевич</td>\n",
       "      <td>Каганович Лилия Петровна</td>\n",
       "    </tr>\n",
       "    <tr>\n",
       "      <th>899</th>\n",
       "      <td>177407</td>\n",
       "      <td>Зелинский Геннадий Артурович</td>\n",
       "      <td>Зазорин Вадим Аркадьевич</td>\n",
       "    </tr>\n",
       "    <tr>\n",
       "      <th>900</th>\n",
       "      <td>177407</td>\n",
       "      <td>Бужанинов Руслан Артурович</td>\n",
       "      <td>Сороковой Герман Маратович</td>\n",
       "    </tr>\n",
       "    <tr>\n",
       "      <th>1798</th>\n",
       "      <td>358194</td>\n",
       "      <td>Ноева Галина Степановна</td>\n",
       "      <td>Серпухова Алла Ярославовна</td>\n",
       "    </tr>\n",
       "    <tr>\n",
       "      <th>1799</th>\n",
       "      <td>358194</td>\n",
       "      <td>Долгих Лилия Вадимовна</td>\n",
       "      <td>Брусенцова Дарья Михаиловна</td>\n",
       "    </tr>\n",
       "  </tbody>\n",
       "</table>\n",
       "</div>"
      ],
      "text/plain": [
       "          id                        name_1                          name_2\n",
       "366    70049       Яшина Полина Евгеньевна  Герасимовская Ксения Дамировна\n",
       "367    70049     Федова Анжелика Вадимовна    Вальдовский Альберт Ефимович\n",
       "486    92995      Журик Альберт Евгеньевич      Бадьянова Римма Максимовна\n",
       "487    92995     Кучеренко Ирина Ильинична      Болтик Григорий Максимович\n",
       "597   117280    Волынский Кирилл Федорович       Гайсумов Виктор Тимурович\n",
       "598   117280   Уточкин Евгений Анатольевич        Каганович Лилия Петровна\n",
       "899   177407  Зелинский Геннадий Артурович        Зазорин Вадим Аркадьевич\n",
       "900   177407    Бужанинов Руслан Артурович      Сороковой Герман Маратович\n",
       "1798  358194       Ноева Галина Степановна      Серпухова Алла Ярославовна\n",
       "1799  358194        Долгих Лилия Вадимовна     Брусенцова Дарья Михаиловна"
      ]
     },
     "execution_count": 11,
     "metadata": {},
     "output_type": "execute_result"
    }
   ],
   "source": [
    "dupl_df_id.head(10)"
   ]
  },
  {
   "cell_type": "code",
   "execution_count": 12,
   "id": "63d69afd",
   "metadata": {},
   "outputs": [],
   "source": [
    "df_id_duplicates = df.pivot_table(index='id', aggfunc='size')"
   ]
  },
  {
   "cell_type": "code",
   "execution_count": 13,
   "id": "f265bdff",
   "metadata": {},
   "outputs": [
    {
     "data": {
      "text/plain": [
       "array([1, 2], dtype=int64)"
      ]
     },
     "execution_count": 13,
     "metadata": {},
     "output_type": "execute_result"
    }
   ],
   "source": [
    "df_id_duplicates.unique()"
   ]
  },
  {
   "cell_type": "markdown",
   "id": "c1fb33ff",
   "metadata": {},
   "source": [
    "<i>Существует от 2-х до 4-х людей привязанных к одному и тому же id события.<br>\n",
    "Повторений фамилий для повторяющихся id не обнаружено.</i>\n"
   ]
  },
  {
   "cell_type": "markdown",
   "id": "ce7bc490",
   "metadata": {},
   "source": [
    "-----------"
   ]
  },
  {
   "cell_type": "markdown",
   "id": "1cfe894f",
   "metadata": {},
   "source": [
    "#### Примем, что люди с идентичными ФИО одни и те же люди"
   ]
  },
  {
   "cell_type": "code",
   "execution_count": 14,
   "id": "53b4756c",
   "metadata": {},
   "outputs": [],
   "source": [
    "serie_names = pd.concat([df.name_1, df.name_2], axis=0, names=['idx','event']).reset_index()"
   ]
  },
  {
   "cell_type": "code",
   "execution_count": 15,
   "id": "0c9ddca4",
   "metadata": {},
   "outputs": [],
   "source": [
    "serie_names_dupl = serie_names.pivot_table(index=[0], aggfunc='size')"
   ]
  },
  {
   "cell_type": "code",
   "execution_count": 16,
   "id": "8210dcc9",
   "metadata": {},
   "outputs": [
    {
     "data": {
      "text/plain": [
       "array([ 1,  2, 50, 14,  3,  5,  6,  4], dtype=int64)"
      ]
     },
     "execution_count": 16,
     "metadata": {},
     "output_type": "execute_result"
    }
   ],
   "source": [
    "serie_names_dupl.unique()"
   ]
  },
  {
   "cell_type": "code",
   "execution_count": 17,
   "id": "5340928d",
   "metadata": {},
   "outputs": [],
   "source": [
    "serie_names_dupl = serie_names_dupl.sort_values(ascending=False)"
   ]
  },
  {
   "cell_type": "code",
   "execution_count": 18,
   "id": "12af3e8c",
   "metadata": {
    "scrolled": true
   },
   "outputs": [
    {
     "data": {
      "text/plain": [
       "0\n",
       "Ахромеева Алина Ивановна            50\n",
       "Башнина Антонина Глебовна           14\n",
       "Медведева Дарья Алексеевна           6\n",
       "Диомидов Игорь Ильдарович            5\n",
       "Зимнухова Карина Даниловна           5\n",
       "Шолохов Игорь Робертович             4\n",
       "Двигубская Валентина Геннадьевна     3\n",
       "Пафомова Кира Вадимовна              3\n",
       "Анихнова Тамара Руслановна           2\n",
       "Каехтин Ильдар Эдуардович            2\n",
       "dtype: int64"
      ]
     },
     "execution_count": 18,
     "metadata": {},
     "output_type": "execute_result"
    }
   ],
   "source": [
    "serie_names_dupl.head(10)"
   ]
  },
  {
   "cell_type": "markdown",
   "id": "5bee1ffc",
   "metadata": {},
   "source": [
    "<i>Топ 10 самых активных участников</i>"
   ]
  },
  {
   "cell_type": "code",
   "execution_count": 19,
   "id": "20260b2e",
   "metadata": {},
   "outputs": [],
   "source": [
    "s1 = set(df.name_1.unique())\n",
    "s2 = set(df.name_2.unique())\n",
    "eventsIntersection = s1.intersection(s2)"
   ]
  },
  {
   "cell_type": "code",
   "execution_count": 20,
   "id": "ed12f5ad",
   "metadata": {},
   "outputs": [
    {
     "data": {
      "text/plain": [
       "25"
      ]
     },
     "execution_count": 20,
     "metadata": {},
     "output_type": "execute_result"
    }
   ],
   "source": [
    "len(eventsIntersection)"
   ]
  },
  {
   "cell_type": "markdown",
   "id": "089df3fa",
   "metadata": {},
   "source": [
    "<i> 25 людей повторяются как в первом, так и во втором столбце events"
   ]
  },
  {
   "cell_type": "markdown",
   "id": "68e0b695",
   "metadata": {},
   "source": [
    "-----"
   ]
  },
  {
   "cell_type": "markdown",
   "id": "ba58a9f0",
   "metadata": {},
   "source": [
    "<i>Резюме по информации, которую удалось достать из датасета\n",
    "<ul>\n",
    "    <li> Существует от 2-х до 4-х людей привязанных к одному и тому же id события.\n",
    "    <li> Для всех повторяющихся id событий не было обнаружено дубликатов ФИО\n",
    "    <li> Самый активный участник - Ахромеева Алина Ивановна\n",
    "</ul>"
   ]
  },
  {
   "cell_type": "markdown",
   "id": "20b64034",
   "metadata": {},
   "source": [
    "#### Загрузка информации в графовую БД"
   ]
  },
  {
   "cell_type": "code",
   "execution_count": 160,
   "id": "ced8dc38",
   "metadata": {},
   "outputs": [],
   "source": [
    "unique_name_nodes = serie_names[0].unique()\n",
    "unique_ids = df.id.unique()"
   ]
  },
  {
   "cell_type": "code",
   "execution_count": 161,
   "id": "243e8f46",
   "metadata": {},
   "outputs": [],
   "source": [
    "from neo4j import GraphDatabase\n",
    "\n",
    "\n",
    "def executeTransactions(transList : list):\n",
    "    database_connection = GraphDatabase.driver(uri=\"bolt://localhost:7687\", auth=(\"neo4j\", \"admin\"))\n",
    "    session = database_connection.session()\n",
    "    for block in transList:\n",
    "        for i in block:\n",
    "            session.run(i)"
   ]
  },
  {
   "cell_type": "code",
   "execution_count": 166,
   "id": "290fa45f",
   "metadata": {},
   "outputs": [],
   "source": [
    "def create_id_nodes_req_list(id_nodes_list : list)->list:\n",
    "    req_list = list()\n",
    "    for i in id_nodes_list:\n",
    "        req_list.append(f'CREATE(:event_id{{number:{i}}})')\n",
    "        \n",
    "    return req_list\n",
    "\n",
    "\n",
    "def create_people_nodes_req_list(event_nodes_list : list)->list:\n",
    "    req_list = list()\n",
    "    for i in event_nodes_list:\n",
    "        req_list.append(f'CREATE(:participant{{name:\"{i}\"}})')\n",
    "        \n",
    "    return req_list\n",
    "\n",
    "\n",
    "def set_relations_between_nodes(listedDF : list)->list:\n",
    "    req_list = list()\n",
    "    \n",
    "    for row in listedDF:\n",
    "        for i in range(1,3):\n",
    "            req_list.append(f'MATCH(e:event_id),(p:participant)\\\n",
    "                            WHERE e.number = {row[0]} AND p.name = \"{row[i]}\"\\\n",
    "                            CREATE (p)-[:takes_part_in]->(e)')\n",
    "    \n",
    "    \n",
    "    return req_list"
   ]
  },
  {
   "cell_type": "code",
   "execution_count": 167,
   "id": "a88eb804",
   "metadata": {},
   "outputs": [],
   "source": [
    "listedDF = df.values.tolist()"
   ]
  },
  {
   "cell_type": "code",
   "execution_count": 168,
   "id": "c68480ec",
   "metadata": {},
   "outputs": [],
   "source": [
    "req_list = list()\n",
    "req_list.append(create_id_nodes_req_list(unique_ids))\n",
    "req_list.append(create_people_nodes_req_list(unique_name_nodes))\n",
    "req_list.append(set_relations_between_nodes(listedDF))"
   ]
  },
  {
   "cell_type": "code",
   "execution_count": 169,
   "id": "b6b23f80",
   "metadata": {},
   "outputs": [],
   "source": [
    "executeTransactions(req_list)"
   ]
  },
  {
   "cell_type": "markdown",
   "id": "61838638",
   "metadata": {},
   "source": [
    "----"
   ]
  },
  {
   "cell_type": "markdown",
   "id": "d608b222",
   "metadata": {},
   "source": [
    "<i> Примеры запросов к графовой БД</i>"
   ]
  },
  {
   "cell_type": "markdown",
   "id": "c8f78363",
   "metadata": {},
   "source": [
    "![title](img\\11.jpg)"
   ]
  },
  {
   "cell_type": "markdown",
   "id": "47baf3e9",
   "metadata": {},
   "source": [
    "![title](img\\22.jpg)"
   ]
  },
  {
   "cell_type": "markdown",
   "id": "f6b0956e",
   "metadata": {},
   "source": [
    "<i>Работа сервиса REST api на Flask </i>"
   ]
  },
  {
   "cell_type": "markdown",
   "id": "305ec878",
   "metadata": {},
   "source": [
    "![title](img\\33.jpg)"
   ]
  },
  {
   "cell_type": "markdown",
   "id": "31030b5c",
   "metadata": {},
   "source": [
    "![title](img\\44.jpg)"
   ]
  }
 ],
 "metadata": {
  "kernelspec": {
   "display_name": "venv",
   "language": "python",
   "name": "venv"
  },
  "language_info": {
   "codemirror_mode": {
    "name": "ipython",
    "version": 3
   },
   "file_extension": ".py",
   "mimetype": "text/x-python",
   "name": "python",
   "nbconvert_exporter": "python",
   "pygments_lexer": "ipython3",
   "version": "3.11.2"
  }
 },
 "nbformat": 4,
 "nbformat_minor": 5
}
